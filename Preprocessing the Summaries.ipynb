{
 "cells": [
  {
   "cell_type": "code",
   "execution_count": 1,
   "metadata": {},
   "outputs": [],
   "source": [
    "import pandas as pd\n",
    "from nltk.corpus import wordnet\n",
    "import spacy\n",
    "import nltk\n",
    "from nltk.corpus import stopwords\n",
    "import numpy as np"
   ]
  },
  {
   "cell_type": "code",
   "execution_count": 2,
   "metadata": {},
   "outputs": [],
   "source": [
    "from nltk.stem import WordNetLemmatizer\n",
    "lemmatizer = WordNetLemmatizer()"
   ]
  },
  {
   "cell_type": "code",
   "execution_count": 3,
   "metadata": {},
   "outputs": [],
   "source": [
    "voc = pd.read_excel('vocabulary.xlsx',sheet_name='Vocabulary Clean')\n",
    "voc.drop(index = voc['Original'][voc['Original']!=voc['Original']].index, axis=0, inplace=True)\n",
    "voc.replace(np.nan, '',inplace=True)\n",
    "repl_words = {o.strip():c.strip() for o,c in voc.values}"
   ]
  },
  {
   "cell_type": "code",
   "execution_count": 4,
   "metadata": {},
   "outputs": [],
   "source": [
    "def get_wordnet_pos(word):\n",
    "    \"\"\"Map POS tag to first character lemmatize() accepts\"\"\"\n",
    "    tag = nltk.pos_tag([word])[0][1][0].upper()\n",
    "    tag_dict = {\"J\": wordnet.ADJ,\n",
    "                \"N\": wordnet.NOUN,\n",
    "                \"V\": wordnet.VERB,\n",
    "                \"R\": wordnet.ADV}\n",
    "\n",
    "    return tag_dict.get(tag, wordnet.NOUN)\n",
    "\n",
    "nlp = spacy.load('en_core_web_lg')"
   ]
  },
  {
   "cell_type": "code",
   "execution_count": 5,
   "metadata": {},
   "outputs": [],
   "source": [
    "def text_process(text):\n",
    "    \"\"\"\n",
    "    Takes in a string of text, then performs the following:\n",
    "    1. Remove all punctuation\n",
    "    2. Remove all stopwords\n",
    "    3. Extract the lemma for each token and join\n",
    "    4. Returns a list of the cleaned text\n",
    "    \"\"\"\n",
    "   \n",
    "    text = str(text)\n",
    "\n",
    "    # Check characters to see if they are in punctuation\n",
    "    try:\n",
    "        nopunc = [char for char in text if char not in string.punctuation]\n",
    "    except:\n",
    "        pass\n",
    "    \n",
    "    # Join the characters again to form the string and parse the sentence using the loaded 'en' model object `nlp`\n",
    "    try:\n",
    "        nopunc = str(nlp(''.join(nopunc)))\n",
    "    except:\n",
    "        nopunc = text\n",
    "        pass\n",
    "\n",
    "    myList = [lemmatizer.lemmatize(w, get_wordnet_pos(w)).lower() for w in nltk.word_tokenize(nopunc)if (w.lower() not in stopwords.words('english'))]\n",
    "    \n",
    "    myList = [w for w in myList if w in repl_words.keys() ]\n",
    "    # Now just lemmatize and remove any stopwords\n",
    "    return ' '.join([repl_words[w] if repl_words[w]!= '' else w for w in myList])"
   ]
  },
  {
   "cell_type": "code",
   "execution_count": 6,
   "metadata": {},
   "outputs": [],
   "source": [
    "original = pd.read_excel('Sherloc_dataset.xlsx')"
   ]
  },
  {
   "cell_type": "code",
   "execution_count": 7,
   "metadata": {},
   "outputs": [
    {
     "data": {
      "text/html": [
       "<div>\n",
       "<style scoped>\n",
       "    .dataframe tbody tr th:only-of-type {\n",
       "        vertical-align: middle;\n",
       "    }\n",
       "\n",
       "    .dataframe tbody tr th {\n",
       "        vertical-align: top;\n",
       "    }\n",
       "\n",
       "    .dataframe thead th {\n",
       "        text-align: right;\n",
       "    }\n",
       "</style>\n",
       "<table border=\"1\" class=\"dataframe\">\n",
       "  <thead>\n",
       "    <tr style=\"text-align: right;\">\n",
       "      <th></th>\n",
       "      <th>ID</th>\n",
       "      <th>Page_Title</th>\n",
       "      <th>URL</th>\n",
       "      <th>Fact_Summary</th>\n",
       "      <th>Language</th>\n",
       "      <th>Cross_Cutting</th>\n",
       "      <th>Country</th>\n",
       "      <th>Corruption</th>\n",
       "      <th>Counterfeiting</th>\n",
       "      <th>Criminal_group</th>\n",
       "      <th>...</th>\n",
       "      <th>Offending_United Arab Emirates</th>\n",
       "      <th>Offending_United Kingdom of Great Britain and Northern Ireland</th>\n",
       "      <th>Offending_United Republic of Tanzania</th>\n",
       "      <th>Offending_United States of America</th>\n",
       "      <th>Offending_Uruguay</th>\n",
       "      <th>Offending_Uzbekistan</th>\n",
       "      <th>Offending_Venezuela (Bolivarian Republic of)</th>\n",
       "      <th>Offending_Viet Nam</th>\n",
       "      <th>Offending_Yemen</th>\n",
       "      <th>Offending_Zambia</th>\n",
       "    </tr>\n",
       "  </thead>\n",
       "  <tbody>\n",
       "    <tr>\n",
       "      <th>0</th>\n",
       "      <td>ALB001</td>\n",
       "      <td>Decision No. 648</td>\n",
       "      <td>https://sherloc.unodc.org/cld/case-law-doc/tra...</td>\n",
       "      <td>In the months of July and August of 2005 the d...</td>\n",
       "      <td>en</td>\n",
       "      <td>[]</td>\n",
       "      <td>Albania</td>\n",
       "      <td>0</td>\n",
       "      <td>0</td>\n",
       "      <td>0</td>\n",
       "      <td>...</td>\n",
       "      <td>0</td>\n",
       "      <td>0</td>\n",
       "      <td>0</td>\n",
       "      <td>0</td>\n",
       "      <td>0</td>\n",
       "      <td>0</td>\n",
       "      <td>0</td>\n",
       "      <td>0</td>\n",
       "      <td>0</td>\n",
       "      <td>0</td>\n",
       "    </tr>\n",
       "    <tr>\n",
       "      <th>1</th>\n",
       "      <td>ALB001</td>\n",
       "      <td>Decision No. 648</td>\n",
       "      <td>https://sherloc.unodc.org/cld/case-law-doc/tra...</td>\n",
       "      <td>In the months of July and August of 2005 the d...</td>\n",
       "      <td>en</td>\n",
       "      <td>[]</td>\n",
       "      <td>Albania</td>\n",
       "      <td>0</td>\n",
       "      <td>0</td>\n",
       "      <td>0</td>\n",
       "      <td>...</td>\n",
       "      <td>0</td>\n",
       "      <td>0</td>\n",
       "      <td>0</td>\n",
       "      <td>0</td>\n",
       "      <td>0</td>\n",
       "      <td>0</td>\n",
       "      <td>0</td>\n",
       "      <td>0</td>\n",
       "      <td>0</td>\n",
       "      <td>0</td>\n",
       "    </tr>\n",
       "    <tr>\n",
       "      <th>2</th>\n",
       "      <td>ALB002</td>\n",
       "      <td>Decision No.292</td>\n",
       "      <td>https://sherloc.unodc.org/cld/case-law-doc/tra...</td>\n",
       "      <td>Defendant Genc Hysa and S K moved in together ...</td>\n",
       "      <td>en</td>\n",
       "      <td>[]</td>\n",
       "      <td>NaN</td>\n",
       "      <td>0</td>\n",
       "      <td>0</td>\n",
       "      <td>0</td>\n",
       "      <td>...</td>\n",
       "      <td>0</td>\n",
       "      <td>0</td>\n",
       "      <td>0</td>\n",
       "      <td>0</td>\n",
       "      <td>0</td>\n",
       "      <td>0</td>\n",
       "      <td>0</td>\n",
       "      <td>0</td>\n",
       "      <td>0</td>\n",
       "      <td>0</td>\n",
       "    </tr>\n",
       "    <tr>\n",
       "      <th>3</th>\n",
       "      <td>ALB002</td>\n",
       "      <td>Decision No.292</td>\n",
       "      <td>https://sherloc.unodc.org/cld/case-law-doc/tra...</td>\n",
       "      <td>Defendant Genc Hysa and S K moved in together ...</td>\n",
       "      <td>en</td>\n",
       "      <td>[]</td>\n",
       "      <td>NaN</td>\n",
       "      <td>0</td>\n",
       "      <td>0</td>\n",
       "      <td>0</td>\n",
       "      <td>...</td>\n",
       "      <td>0</td>\n",
       "      <td>0</td>\n",
       "      <td>0</td>\n",
       "      <td>0</td>\n",
       "      <td>0</td>\n",
       "      <td>0</td>\n",
       "      <td>0</td>\n",
       "      <td>0</td>\n",
       "      <td>0</td>\n",
       "      <td>0</td>\n",
       "    </tr>\n",
       "    <tr>\n",
       "      <th>4</th>\n",
       "      <td>ALB002</td>\n",
       "      <td>Decision No.292</td>\n",
       "      <td>https://sherloc.unodc.org/cld/case-law-doc/tra...</td>\n",
       "      <td>Defendant Genc Hysa and S K moved in together ...</td>\n",
       "      <td>en</td>\n",
       "      <td>[]</td>\n",
       "      <td>NaN</td>\n",
       "      <td>0</td>\n",
       "      <td>0</td>\n",
       "      <td>0</td>\n",
       "      <td>...</td>\n",
       "      <td>0</td>\n",
       "      <td>0</td>\n",
       "      <td>0</td>\n",
       "      <td>0</td>\n",
       "      <td>0</td>\n",
       "      <td>0</td>\n",
       "      <td>0</td>\n",
       "      <td>0</td>\n",
       "      <td>0</td>\n",
       "      <td>0</td>\n",
       "    </tr>\n",
       "  </tbody>\n",
       "</table>\n",
       "<p>5 rows × 293 columns</p>\n",
       "</div>"
      ],
      "text/plain": [
       "       ID        Page_Title  \\\n",
       "0  ALB001  Decision No. 648   \n",
       "1  ALB001  Decision No. 648   \n",
       "2  ALB002   Decision No.292   \n",
       "3  ALB002   Decision No.292   \n",
       "4  ALB002   Decision No.292   \n",
       "\n",
       "                                                 URL  \\\n",
       "0  https://sherloc.unodc.org/cld/case-law-doc/tra...   \n",
       "1  https://sherloc.unodc.org/cld/case-law-doc/tra...   \n",
       "2  https://sherloc.unodc.org/cld/case-law-doc/tra...   \n",
       "3  https://sherloc.unodc.org/cld/case-law-doc/tra...   \n",
       "4  https://sherloc.unodc.org/cld/case-law-doc/tra...   \n",
       "\n",
       "                                        Fact_Summary Language Cross_Cutting  \\\n",
       "0  In the months of July and August of 2005 the d...       en            []   \n",
       "1  In the months of July and August of 2005 the d...       en            []   \n",
       "2  Defendant Genc Hysa and S K moved in together ...       en            []   \n",
       "3  Defendant Genc Hysa and S K moved in together ...       en            []   \n",
       "4  Defendant Genc Hysa and S K moved in together ...       en            []   \n",
       "\n",
       "   Country  Corruption  Counterfeiting  Criminal_group  ...  \\\n",
       "0  Albania           0               0               0  ...   \n",
       "1  Albania           0               0               0  ...   \n",
       "2      NaN           0               0               0  ...   \n",
       "3      NaN           0               0               0  ...   \n",
       "4      NaN           0               0               0  ...   \n",
       "\n",
       "   Offending_United Arab Emirates  \\\n",
       "0                               0   \n",
       "1                               0   \n",
       "2                               0   \n",
       "3                               0   \n",
       "4                               0   \n",
       "\n",
       "   Offending_United Kingdom of Great Britain and Northern Ireland  \\\n",
       "0                                                  0                \n",
       "1                                                  0                \n",
       "2                                                  0                \n",
       "3                                                  0                \n",
       "4                                                  0                \n",
       "\n",
       "   Offending_United Republic of Tanzania  Offending_United States of America  \\\n",
       "0                                      0                                   0   \n",
       "1                                      0                                   0   \n",
       "2                                      0                                   0   \n",
       "3                                      0                                   0   \n",
       "4                                      0                                   0   \n",
       "\n",
       "   Offending_Uruguay  Offending_Uzbekistan  \\\n",
       "0                  0                     0   \n",
       "1                  0                     0   \n",
       "2                  0                     0   \n",
       "3                  0                     0   \n",
       "4                  0                     0   \n",
       "\n",
       "   Offending_Venezuela (Bolivarian Republic of)  Offending_Viet Nam  \\\n",
       "0                                             0                   0   \n",
       "1                                             0                   0   \n",
       "2                                             0                   0   \n",
       "3                                             0                   0   \n",
       "4                                             0                   0   \n",
       "\n",
       "   Offending_Yemen  Offending_Zambia  \n",
       "0                0                 0  \n",
       "1                0                 0  \n",
       "2                0                 0  \n",
       "3                0                 0  \n",
       "4                0                 0  \n",
       "\n",
       "[5 rows x 293 columns]"
      ]
     },
     "execution_count": 7,
     "metadata": {},
     "output_type": "execute_result"
    }
   ],
   "source": [
    "original.head()"
   ]
  },
  {
   "cell_type": "code",
   "execution_count": 8,
   "metadata": {},
   "outputs": [],
   "source": [
    "df = original.drop_duplicates('ID', ignore_index=True)[['ID', 'Fact_Summary','Language','Trafficking_Persons', 'Migrant_Smuggling']]"
   ]
  },
  {
   "cell_type": "code",
   "execution_count": 9,
   "metadata": {},
   "outputs": [
    {
     "data": {
      "text/plain": [
       "(3170, 5)"
      ]
     },
     "execution_count": 9,
     "metadata": {},
     "output_type": "execute_result"
    }
   ],
   "source": [
    "df.shape"
   ]
  },
  {
   "cell_type": "code",
   "execution_count": 10,
   "metadata": {},
   "outputs": [],
   "source": [
    "df.drop(index = df[df[\"Language\"]!='en'].index, inplace= True, axis=0)"
   ]
  },
  {
   "cell_type": "code",
   "execution_count": 11,
   "metadata": {},
   "outputs": [],
   "source": [
    "df = df.loc[(df['Trafficking_Persons']==1) | (df['Migrant_Smuggling']==1)].copy()"
   ]
  },
  {
   "cell_type": "code",
   "execution_count": 12,
   "metadata": {
    "scrolled": true
   },
   "outputs": [
    {
     "data": {
      "text/html": [
       "<div>\n",
       "<style scoped>\n",
       "    .dataframe tbody tr th:only-of-type {\n",
       "        vertical-align: middle;\n",
       "    }\n",
       "\n",
       "    .dataframe tbody tr th {\n",
       "        vertical-align: top;\n",
       "    }\n",
       "\n",
       "    .dataframe thead th {\n",
       "        text-align: right;\n",
       "    }\n",
       "</style>\n",
       "<table border=\"1\" class=\"dataframe\">\n",
       "  <thead>\n",
       "    <tr style=\"text-align: right;\">\n",
       "      <th></th>\n",
       "      <th>ID</th>\n",
       "      <th>Fact_Summary</th>\n",
       "      <th>Language</th>\n",
       "      <th>Trafficking_Persons</th>\n",
       "      <th>Migrant_Smuggling</th>\n",
       "    </tr>\n",
       "  </thead>\n",
       "  <tbody>\n",
       "    <tr>\n",
       "      <th>0</th>\n",
       "      <td>ALB001</td>\n",
       "      <td>In the months of July and August of 2005 the d...</td>\n",
       "      <td>en</td>\n",
       "      <td>1</td>\n",
       "      <td>0</td>\n",
       "    </tr>\n",
       "    <tr>\n",
       "      <th>1</th>\n",
       "      <td>ALB002</td>\n",
       "      <td>Defendant Genc Hysa and S K moved in together ...</td>\n",
       "      <td>en</td>\n",
       "      <td>1</td>\n",
       "      <td>0</td>\n",
       "    </tr>\n",
       "    <tr>\n",
       "      <th>2</th>\n",
       "      <td>ALB003</td>\n",
       "      <td>The defendant met the victim in 2001 and they ...</td>\n",
       "      <td>en</td>\n",
       "      <td>1</td>\n",
       "      <td>0</td>\n",
       "    </tr>\n",
       "    <tr>\n",
       "      <th>4</th>\n",
       "      <td>ALB005</td>\n",
       "      <td>The defendant lured the victim to the Albanian...</td>\n",
       "      <td>en</td>\n",
       "      <td>1</td>\n",
       "      <td>0</td>\n",
       "    </tr>\n",
       "    <tr>\n",
       "      <th>5</th>\n",
       "      <td>ALB006</td>\n",
       "      <td>The defendant approached the victim s family a...</td>\n",
       "      <td>en</td>\n",
       "      <td>1</td>\n",
       "      <td>0</td>\n",
       "    </tr>\n",
       "  </tbody>\n",
       "</table>\n",
       "</div>"
      ],
      "text/plain": [
       "       ID                                       Fact_Summary Language  \\\n",
       "0  ALB001  In the months of July and August of 2005 the d...       en   \n",
       "1  ALB002  Defendant Genc Hysa and S K moved in together ...       en   \n",
       "2  ALB003  The defendant met the victim in 2001 and they ...       en   \n",
       "4  ALB005  The defendant lured the victim to the Albanian...       en   \n",
       "5  ALB006  The defendant approached the victim s family a...       en   \n",
       "\n",
       "   Trafficking_Persons  Migrant_Smuggling  \n",
       "0                    1                  0  \n",
       "1                    1                  0  \n",
       "2                    1                  0  \n",
       "4                    1                  0  \n",
       "5                    1                  0  "
      ]
     },
     "execution_count": 12,
     "metadata": {},
     "output_type": "execute_result"
    }
   ],
   "source": [
    "df.head()"
   ]
  },
  {
   "cell_type": "code",
   "execution_count": 13,
   "metadata": {},
   "outputs": [],
   "source": [
    "summaries = df.pop('Fact_Summary')"
   ]
  },
  {
   "cell_type": "code",
   "execution_count": 24,
   "metadata": {},
   "outputs": [
    {
     "data": {
      "text/plain": [
       "'The defendant lured the victim to the Albanian city of Korca with the promise of marriage From there the defendant brought the victim to Greece using forged passports with Greek visas The victim was forced into prostitution and was captured by Greek police and deported back to Albania on 29 May 2004'"
      ]
     },
     "execution_count": 24,
     "metadata": {},
     "output_type": "execute_result"
    }
   ],
   "source": [
    "summaries[4]"
   ]
  },
  {
   "cell_type": "code",
   "execution_count": 26,
   "metadata": {},
   "outputs": [
    {
     "data": {
      "text/plain": [
       "'defendant lure victim albanian city promise marriage defendant brought victim greece use forge passport greek visa victim force prostitution capture greek police deport albania'"
      ]
     },
     "execution_count": 26,
     "metadata": {},
     "output_type": "execute_result"
    }
   ],
   "source": [
    "text_process(summaries[4])"
   ]
  },
  {
   "cell_type": "code",
   "execution_count": 16,
   "metadata": {},
   "outputs": [],
   "source": [
    "sums = summaries.apply(text_process)"
   ]
  },
  {
   "cell_type": "code",
   "execution_count": 18,
   "metadata": {},
   "outputs": [
    {
     "data": {
      "text/plain": [
       "2305"
      ]
     },
     "execution_count": 18,
     "metadata": {},
     "output_type": "execute_result"
    }
   ],
   "source": [
    "len(sums.to_list())"
   ]
  },
  {
   "cell_type": "code",
   "execution_count": 56,
   "metadata": {},
   "outputs": [],
   "source": [
    "with open('sums.txt','w') as f:\n",
    "    f.write(str(sums.to_list()))"
   ]
  }
 ],
 "metadata": {
  "kernelspec": {
   "display_name": "Python 3",
   "language": "python",
   "name": "python3"
  },
  "language_info": {
   "codemirror_mode": {
    "name": "ipython",
    "version": 3
   },
   "file_extension": ".py",
   "mimetype": "text/x-python",
   "name": "python",
   "nbconvert_exporter": "python",
   "pygments_lexer": "ipython3",
   "version": "3.8.5"
  }
 },
 "nbformat": 4,
 "nbformat_minor": 4
}
